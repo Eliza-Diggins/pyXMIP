{
 "cells": [
  {
   "cell_type": "markdown",
   "id": "ae6d2846-4574-4d62-8980-c0923ff0fdc7",
   "metadata": {
    "ExecuteTime": {
     "end_time": "2024-05-04T17:42:34.100413400Z",
     "start_time": "2024-05-04T17:42:34.081403Z"
    },
    "collapsed": true,
    "jupyter": {
     "outputs_hidden": true
    }
   },
   "source": [
    "# Using Databases in PyXMIP\n",
    "\n",
    "![a](https://img.shields.io/badge/Subject:-Databases-blue)\n",
    "![b](https://img.shields.io/badge/Difficulty:-Easy-green)\n",
    "![c](https://img.shields.io/badge/Author:-Eliza_Diggins-green)\n",
    "\n",
    "---\n",
    "\n",
    "In this example guide, we're going to walk through the use / interaction with ``pyXMIP``'s database classes.\n"
   ]
  },
  {
   "cell_type": "markdown",
   "id": "06525c58-7cca-4acd-8c24-2b655f9dca15",
   "metadata": {},
   "source": [
    "## Contents\n",
    "\n",
    "\n",
    "# Accessing Databases\n",
    "\n",
    "---\n",
    "\n",
    "In ``pyXMIP``, databases are represented by classes in the ``pyxmip.structures.databases`` module. There are various types of database, ranging from local databases (local catalogs) to remote databases like NED and SIMBAD. The purpose of the ``databases`` module is to provide an easy, intuitive link between the user and the database-specific querying and managing tasks than are necessary to successfully interact with the relevant data.\n",
    "\n",
    "## Local Databases\n",
    "\n",
    "Local databases are instances where a user might choose to load a catalog of their own to cross-reference against. To demonstrate, we'll use the eROSITA Hard band catalog for the ERASS 1 survey as our database. The firsting thing to do is to load the data into ``pyXMIP``. If you're trying to follow along, you can find the eRASS 1 data [here](https://erosita.mpe.mpg.de/dr1/AllSkySurveyData_dr1/Catalogues_dr1/MerloniA_DR1/eRASS1_Hard.tar.gz). Once it's been unzipped, you should have a file ``eRASS1_Hard.v1.0.fits``. Let's go ahead and load the file into a database!\n"
   ]
  },
  {
   "cell_type": "code",
   "execution_count": 1,
   "id": "79ff0486-3451-4256-9e05-c8482fea89b5",
   "metadata": {
    "ExecuteTime": {
     "start_time": "2024-05-05T17:08:31.371250Z"
    }
   },
   "outputs": [
    {
     "name": "stdout",
     "output_type": "stream",
     "text": [
      "The catalog has length 5466.\n"
     ]
    }
   ],
   "source": [
    "import pyXMIP as pyxm\n",
    "from pyXMIP.utilities.core import mainlog\n",
    "\n",
    "mainlog.verbosity = 2\n",
    "\n",
    "# -- read the table into memory as a SourceTable -- #\n",
    "catalog = pyxm.SourceTable.read(\"data/eRASS1_Hard.v1.0.fits\")\n",
    "\n",
    "print(f\"The catalog has length {len(catalog)}.\")"
   ]
  },
  {
   "cell_type": "markdown",
   "id": "9ea86146-fb4d-453c-af99-c4e295290394",
   "metadata": {},
   "source": [
    "We can now load the table as a database using the ``pyxm.LocalDatabase`` class:"
   ]
  },
  {
   "cell_type": "code",
   "execution_count": 2,
   "id": "014848e4-5445-4365-94ad-ed747adb015b",
   "metadata": {},
   "outputs": [],
   "source": [
    "database = pyxm.LocalDatabase(catalog, \"example_database\")"
   ]
  },
  {
   "cell_type": "markdown",
   "id": "f87f7d2f-893e-4977-8403-af3e613ebc6b",
   "metadata": {},
   "source": [
    "### Basic Properties of Local Databases\n",
    "\n",
    "Congrats, you've just loaded a table as a ``LocalDatabase``! Let's start exploring the database.\n",
    "\n",
    "The second parameter we passed above is the ``name`` of the ``LocalDatabase`` instance. We can access it using ``database.name``."
   ]
  },
  {
   "cell_type": "code",
   "execution_count": 3,
   "id": "7703ec18-521b-49dd-b58a-bb6f606dc055",
   "metadata": {},
   "outputs": [
    {
     "name": "stdout",
     "output_type": "stream",
     "text": [
      "example_database\n"
     ]
    }
   ],
   "source": [
    "print(database.name)"
   ]
  },
  {
   "cell_type": "markdown",
   "id": "619db129-ce56-42fe-a572-bd05c3e0b065",
   "metadata": {},
   "source": [
    "These local databases operate much like normal ``SourceTable`` objects; you can access the raw data using ``database.table``. What makes these objects useful is that you can immediately perform all of ``pyXMIP``'s core functionality for cross-matching. \n",
    "\n",
    "The first thing to demonstrate is **querying** the database. This allows us to pull all instances within a given radius. Let's try pulling all of the matches within 1 degree of the galactic center:"
   ]
  },
  {
   "cell_type": "code",
   "execution_count": 4,
   "id": "e2a62deb-56c9-499c-aa30-8a94256bf869",
   "metadata": {},
   "outputs": [
    {
     "name": "stderr",
     "output_type": "stream",
     "text": [
      "pyXMIP : [INFO     ] 2024-05-05 12:10:45,649 Querying <SkyCoord (Galactic): (l, b) in deg\n",
      "    (0., 0.)> in example_database...\n"
     ]
    }
   ],
   "source": [
    "from astropy.coordinates import SkyCoord\n",
    "import astropy.units as u\n",
    "\n",
    "query_data = database.query_radius(\n",
    "    SkyCoord(0, 0, unit=\"deg\", frame=\"galactic\"), 1 * u.deg\n",
    ")"
   ]
  },
  {
   "cell_type": "code",
   "execution_count": 5,
   "id": "aba42c81-2042-4155-b02a-d933df234607",
   "metadata": {},
   "outputs": [
    {
     "data": {
      "text/html": [
       "<div><i>SourceTable length=7</i>\n",
       "<table id=\"table140181701372752\" class=\"table-striped table-bordered table-condensed\">\n",
       "<thead><tr><th>IAUNAME</th><th>DETUID</th><th>SKYTILE</th><th>ID_SRC</th><th>UID</th><th>UID_1B</th><th>ID_CLUSTER</th><th>RA</th><th>DEC</th><th>RA_RAW</th><th>DEC_RAW</th><th>RA_LOWERR</th><th>RA_UPERR</th><th>DEC_LOWERR</th><th>DEC_UPERR</th><th>POS_ERR</th><th>RADEC_ERR</th><th>LII</th><th>BII</th><th>ELON</th><th>ELAT</th><th>MJD</th><th>MJD_MIN</th><th>MJD_MAX</th><th>EXT</th><th>EXT_ERR</th><th>EXT_LOWERR</th><th>EXT_UPERR</th><th>EXT_LIKE</th><th>ML_CTS_0</th><th>ML_CTS_ERR_0</th><th>ML_RATE_0</th><th>ML_RATE_ERR_0</th><th>ML_FLUX_0</th><th>ML_FLUX_ERR_0</th><th>DET_LIKE_0</th><th>ML_BKG_0</th><th>ML_CTS_1</th><th>ML_CTS_ERR_1</th><th>ML_CTS_LOWERR_1</th><th>ML_CTS_UPERR_1</th><th>ML_RATE_1</th><th>ML_RATE_ERR_1</th><th>ML_RATE_LOWERR_1</th><th>ML_RATE_UPERR_1</th><th>ML_FLUX_1</th><th>ML_FLUX_ERR_1</th><th>ML_FLUX_LOWERR_1</th><th>ML_FLUX_UPERR_1</th><th>DET_LIKE_1</th><th>ML_BKG_1</th><th>ML_EXP_1</th><th>ML_EEF_1</th><th>APE_CTS_1</th><th>APE_BKG_1</th><th>APE_EXP_1</th><th>APE_RADIUS_1</th><th>APE_POIS_1</th><th>ML_CTS_2</th><th>ML_CTS_ERR_2</th><th>ML_CTS_LOWERR_2</th><th>ML_CTS_UPERR_2</th><th>ML_RATE_2</th><th>ML_RATE_ERR_2</th><th>ML_RATE_LOWERR_2</th><th>ML_RATE_UPERR_2</th><th>ML_FLUX_2</th><th>ML_FLUX_ERR_2</th><th>ML_FLUX_LOWERR_2</th><th>ML_FLUX_UPERR_2</th><th>DET_LIKE_2</th><th>ML_BKG_2</th><th>ML_EXP_2</th><th>ML_EEF_2</th><th>APE_CTS_2</th><th>APE_BKG_2</th><th>APE_EXP_2</th><th>APE_RADIUS_2</th><th>APE_POIS_2</th><th>ML_CTS_3</th><th>ML_CTS_ERR_3</th><th>ML_CTS_LOWERR_3</th><th>ML_CTS_UPERR_3</th><th>ML_RATE_3</th><th>ML_RATE_ERR_3</th><th>ML_RATE_LOWERR_3</th><th>ML_RATE_UPERR_3</th><th>ML_FLUX_3</th><th>ML_FLUX_ERR_3</th><th>ML_FLUX_LOWERR_3</th><th>ML_FLUX_UPERR_3</th><th>DET_LIKE_3</th><th>ML_BKG_3</th><th>ML_EXP_3</th><th>ML_EEF_3</th><th>APE_CTS_3</th><th>APE_BKG_3</th><th>APE_EXP_3</th><th>APE_RADIUS_3</th><th>APE_POIS_3</th><th>FLAG_SP_SNR</th><th>FLAG_SP_BPS</th><th>FLAG_SP_SCL</th><th>FLAG_SP_LGA</th><th>FLAG_SP_GC_CONS</th><th>FLAG_NO_RADEC_ERR</th><th>FLAG_NO_EXT_ERR</th><th>FLAG_NO_CTS_ERR</th><th>FLAG_OPT</th></tr></thead>\n",
       "<thead><tr><th></th><th></th><th></th><th></th><th></th><th></th><th></th><th>deg</th><th>deg</th><th>deg</th><th>deg</th><th>arcsec</th><th>arcsec</th><th>arcsec</th><th>arcsec</th><th></th><th></th><th>deg</th><th>deg</th><th>deg</th><th>deg</th><th></th><th></th><th></th><th>arcsec</th><th>arcsec</th><th>arcsec</th><th>arcsec</th><th></th><th>ct</th><th>ct</th><th>ct / s</th><th>ct / s</th><th>erg / (s cm2)</th><th>erg / (s cm2)</th><th></th><th>1 / arcmin2</th><th>ct</th><th>ct</th><th>ct</th><th>ct</th><th>ct / s</th><th>ct / s</th><th>ct / s</th><th>ct / s</th><th>erg / (s cm2)</th><th>erg / (s cm2)</th><th>erg / (s cm2)</th><th>erg / (s cm2)</th><th></th><th>1 / arcmin2</th><th>s</th><th></th><th>ct</th><th>ct</th><th>s</th><th>pix</th><th></th><th>ct</th><th>ct</th><th>ct</th><th>ct</th><th>ct / s</th><th>ct / s</th><th>ct / s</th><th>ct / s</th><th>erg / (s cm2)</th><th>erg / (s cm2)</th><th>erg / (s cm2)</th><th>erg / (s cm2)</th><th></th><th>1 / arcmin2</th><th>s</th><th></th><th>ct</th><th>ct</th><th>s</th><th>pix</th><th></th><th>ct</th><th>ct</th><th>ct</th><th>ct</th><th>ct / s</th><th>ct / s</th><th>ct / s</th><th>ct / s</th><th>erg / (s cm2)</th><th>erg / (s cm2)</th><th>erg / (s cm2)</th><th>erg / (s cm2)</th><th></th><th>1 / arcmin2</th><th>s</th><th></th><th>ct</th><th>ct</th><th>s</th><th>pix</th><th></th><th></th><th></th><th></th><th></th><th></th><th></th><th></th><th></th><th></th></tr></thead>\n",
       "<thead><tr><th>bytes23</th><th>bytes32</th><th>int32</th><th>int32</th><th>int64</th><th>int64</th><th>int32</th><th>float64</th><th>float64</th><th>float64</th><th>float64</th><th>float32</th><th>float32</th><th>float32</th><th>float32</th><th>float32</th><th>float32</th><th>float64</th><th>float64</th><th>float64</th><th>float64</th><th>float32</th><th>float32</th><th>float32</th><th>float32</th><th>float32</th><th>float32</th><th>float32</th><th>float32</th><th>float32</th><th>float32</th><th>float32</th><th>float32</th><th>float32</th><th>float32</th><th>float32</th><th>float32</th><th>float32</th><th>float32</th><th>float32</th><th>float32</th><th>float32</th><th>float32</th><th>float32</th><th>float32</th><th>float32</th><th>float32</th><th>float32</th><th>float32</th><th>float32</th><th>float32</th><th>float32</th><th>float32</th><th>int32</th><th>float32</th><th>float32</th><th>float32</th><th>float32</th><th>float32</th><th>float32</th><th>float32</th><th>float32</th><th>float32</th><th>float32</th><th>float32</th><th>float32</th><th>float32</th><th>float32</th><th>float32</th><th>float32</th><th>float32</th><th>float32</th><th>float32</th><th>float32</th><th>int32</th><th>float32</th><th>float32</th><th>float32</th><th>float32</th><th>float32</th><th>float32</th><th>float32</th><th>float32</th><th>float32</th><th>float32</th><th>float32</th><th>float32</th><th>float32</th><th>float32</th><th>float32</th><th>float32</th><th>float32</th><th>float32</th><th>float32</th><th>float32</th><th>int32</th><th>float32</th><th>float32</th><th>float32</th><th>float32</th><th>int16</th><th>int16</th><th>int16</th><th>int16</th><th>int16</th><th>int16</th><th>int16</th><th>int16</th><th>int16</th></tr></thead>\n",
       "<tr><td>1eRASS J174605.1-293054</td><td>eb01_266120_020_ML00001_002_c010</td><td>266120</td><td>1</td><td>226612000001</td><td>126612000001</td><td>1</td><td>266.5212044567939</td><td>-29.51500542623596</td><td>266.52204378487653</td><td>-29.515097507841993</td><td>0.13949466</td><td>2.9024975</td><td>4.358429</td><td>0.007527387</td><td>1.9538316</td><td>2.1510134</td><td>359.55982891466857</td><td>-0.3886186432555352</td><td>266.95623856738115</td><td>-6.112271738216029</td><td>58937.168</td><td>58936.668</td><td>58937.504</td><td>0.0</td><td>0.0</td><td>0.0</td><td>0.0</td><td>0.0</td><td>2407.7334</td><td>106.005005</td><td>30.701202</td><td>1.4205489</td><td>2.2243019e-10</td><td>1.2178329e-11</td><td>14914.336</td><td>1.4183284</td><td>11.520582</td><td>3.8006055</td><td>2.429122</td><td>5.1720886</td><td>0.11548272</td><td>0.0380974</td><td>0.024349602</td><td>0.051845193</td><td>1.1233728e-13</td><td>3.7059728e-14</td><td>2.3686384e-14</td><td>5.0433067e-14</td><td>42.577255</td><td>0.13205612</td><td>99.76023</td><td>0.8923024</td><td>8</td><td>0.103025764</td><td>99.69538</td><td>6.912757</td><td>2.872746e-13</td><td>562.7037</td><td>25.436197</td><td>20.007622</td><td>30.86477</td><td>5.685829</td><td>0.25701958</td><td>0.20216665</td><td>0.3118725</td><td>5.2307533e-12</td><td>2.3644856e-13</td><td>1.8598587e-13</td><td>2.8691123e-13</td><td>2763.6956</td><td>0.8466936</td><td>98.96599</td><td>0.8836025</td><td>397</td><td>5.2390933</td><td>98.97145</td><td>7.523202</td><td>0.0</td><td>1833.509</td><td>102.83782</td><td>10.577636</td><td>195.098</td><td>24.89989</td><td>1.3965846</td><td>0.14364913</td><td>2.6495202</td><td>2.170871e-10</td><td>1.2175977e-11</td><td>1.25239e-12</td><td>2.3099566e-11</td><td>12122.194</td><td>0.43957868</td><td>73.63522</td><td>0.85624605</td><td>1449</td><td>13.726101</td><td>73.621864</td><td>9.72179</td><td>0.0</td><td>0</td><td>0</td><td>0</td><td>0</td><td>0</td><td>0</td><td>0</td><td>0</td><td>0</td></tr>\n",
       "<tr><td>1eRASS J174559.3-293041</td><td>eb01_266120_020_ML00031_002_c010</td><td>266120</td><td>31</td><td>226612000031</td><td>126612000026</td><td>31</td><td>266.4999842437073</td><td>-29.50356847249777</td><td>266.5008235084215</td><td>-29.50366062083786</td><td>--</td><td>--</td><td>9.500615</td><td>--</td><td>2.987258</td><td>3.5330765</td><td>359.5599889663253</td><td>-0.36689712169037997</td><td>266.9373911623885</td><td>-6.1012878292280694</td><td>58937.168</td><td>58936.668</td><td>58937.504</td><td>38.92234</td><td>--</td><td>--</td><td>--</td><td>17.776142</td><td>207.3127</td><td>0.0</td><td>2.432323</td><td>0.0</td><td>1.4243999e-11</td><td>0.0</td><td>27.15491</td><td>19.158691</td><td>0.0</td><td>--</td><td>--</td><td>--</td><td>0.0</td><td>--</td><td>--</td><td>--</td><td>0.0</td><td>--</td><td>--</td><td>--</td><td>0.0</td><td>0.17221847</td><td>102.8838</td><td>0.8923024</td><td>0</td><td>0.23400639</td><td>101.97256</td><td>6.9135695</td><td>--</td><td>90.93672</td><td>--</td><td>--</td><td>--</td><td>0.89273775</td><td>--</td><td>--</td><td>--</td><td>8.2128586e-13</td><td>--</td><td>--</td><td>--</td><td>19.887375</td><td>4.9392376</td><td>101.86275</td><td>0.8836025</td><td>20</td><td>8.687361</td><td>101.27301</td><td>7.5244036</td><td>0.00069527834</td><td>116.37598</td><td>--</td><td>--</td><td>--</td><td>1.5395852</td><td>--</td><td>--</td><td>--</td><td>1.34227135e-11</td><td>--</td><td>--</td><td>--</td><td>13.6598835</td><td>14.047236</td><td>75.58917</td><td>0.85624605</td><td>78</td><td>53.733196</td><td>75.15397</td><td>9.72228</td><td>0.001105914</td><td>0</td><td>0</td><td>0</td><td>0</td><td>0</td><td>1</td><td>1</td><td>0</td><td>0</td></tr>\n",
       "<tr><td>1eRASS J174354.6-294447</td><td>eb01_266120_020_ML00038_002_c010</td><td>266120</td><td>38</td><td>226612000038</td><td>126612000030</td><td>37</td><td>265.9425567125176</td><td>-29.740806068691644</td><td>265.94339878491024</td><td>-29.740899983046212</td><td>11.4425335</td><td>12.366564</td><td>9.458324</td><td>9.709819</td><td>13.60308</td><td>16.835575</td><td>359.1045718195378</td><td>-0.07760642104978899</td><td>266.4564053593605</td><td>-6.351220854474064</td><td>58936.668</td><td>58936.336</td><td>58937.004</td><td>27.84858</td><td>7.6863184</td><td>6.9403577</td><td>8.432279</td><td>12.273673</td><td>43.940758</td><td>10.408061</td><td>0.56421846</td><td>0.13390331</td><td>4.2380045e-12</td><td>1.089671e-12</td><td>21.117504</td><td>2.0399103</td><td>0.0</td><td>1.1698326</td><td>0.0</td><td>1.1698326</td><td>0.0</td><td>0.011696117</td><td>0.0</td><td>0.011696117</td><td>0.0</td><td>1.1377546e-14</td><td>0.0</td><td>1.1377546e-14</td><td>0.0</td><td>0.13316688</td><td>100.01888</td><td>0.8923024</td><td>0</td><td>0.08955093</td><td>100.14816</td><td>6.921838</td><td>--</td><td>8.687518</td><td>4.806515</td><td>4.118416</td><td>5.4946146</td><td>0.08733495</td><td>0.048319526</td><td>0.041402116</td><td>0.055236936</td><td>8.0344944e-14</td><td>4.4452184e-14</td><td>3.8088422e-14</td><td>5.0815946e-14</td><td>3.6937888</td><td>0.65281796</td><td>99.47356</td><td>0.8836025</td><td>4</td><td>0.5115735</td><td>99.50971</td><td>7.5348334</td><td>0.001902139</td><td>35.25324</td><td>9.231747</td><td>8.506444</td><td>9.957049</td><td>0.47688353</td><td>0.12488123</td><td>0.1150698</td><td>0.13469267</td><td>4.1576595e-12</td><td>1.088764e-12</td><td>1.0032241e-12</td><td>1.174304e-12</td><td>23.403154</td><td>1.2539253</td><td>73.92421</td><td>0.85624605</td><td>14</td><td>1.3156023</td><td>74.02608</td><td>9.739822</td><td>1.5689097e-10</td><td>0</td><td>0</td><td>0</td><td>0</td><td>0</td><td>0</td><td>0</td><td>0</td><td>0</td></tr>\n",
       "<tr><td>1eRASS J174605.1-293241</td><td>eb01_266120_020_ML00047_002_c010</td><td>266120</td><td>47</td><td>226612000047</td><td>126612000046</td><td>45</td><td>266.5249959891799</td><td>-29.541496688329225</td><td>266.52583553171763</td><td>-29.541588758514017</td><td>5.9786816</td><td>6.061253</td><td>6.068948</td><td>5.9954834</td><td>6.922573</td><td>8.51352</td><td>359.53891876395676</td><td>-0.4052155694313179</td><td>266.9602020452209</td><td>-6.138675159709437</td><td>58937.168</td><td>58936.668</td><td>58937.504</td><td>26.442501</td><td>4.727348</td><td>4.4526253</td><td>5.0020704</td><td>20.983734</td><td>151.09796</td><td>22.39958</td><td>1.8603997</td><td>0.28073516</td><td>1.2061235e-11</td><td>2.1855187e-12</td><td>42.122776</td><td>17.360308</td><td>2.218365</td><td>2.5970666</td><td>1.8290725</td><td>3.3650608</td><td>0.022367245</td><td>0.026185604</td><td>0.018442102</td><td>0.033929106</td><td>2.175802e-14</td><td>2.5472378e-14</td><td>1.7939789e-14</td><td>3.3004967e-14</td><td>1.0320556</td><td>0.16680913</td><td>99.17918</td><td>0.8923024</td><td>1</td><td>-0.41591042</td><td>99.45223</td><td>6.911186</td><td>--</td><td>50.949715</td><td>12.399517</td><td>11.704677</td><td>13.0943575</td><td>0.51102805</td><td>0.124367744</td><td>0.11739846</td><td>0.13133703</td><td>4.70127e-13</td><td>1.1441374e-13</td><td>1.08002264e-13</td><td>1.2082524e-13</td><td>19.30332</td><td>3.398805</td><td>99.700424</td><td>0.8836025</td><td>16</td><td>3.9812686</td><td>98.7304</td><td>7.520816</td><td>4.6180558e-06</td><td>97.929886</td><td>18.47291</td><td>18.053255</td><td>18.892563</td><td>1.3270044</td><td>0.2503182</td><td>0.24463166</td><td>0.25600475</td><td>1.156935e-11</td><td>2.1823732e-12</td><td>2.1327957e-12</td><td>2.2319507e-12</td><td>28.929255</td><td>13.794693</td><td>73.79771</td><td>0.85624605</td><td>55</td><td>20.357311</td><td>73.446266</td><td>9.71884</td><td>1.6932926e-10</td><td>0</td><td>0</td><td>0</td><td>0</td><td>0</td><td>0</td><td>0</td><td>0</td><td>0</td></tr>\n",
       "<tr><td>1eRASS J174354.7-294444</td><td>eb01_266120_020_ML00008_002_c010</td><td>266120</td><td>8</td><td>226612000008</td><td>-126612000030</td><td>8</td><td>265.9782498192145</td><td>-29.745722897155783</td><td>265.9790918802385</td><td>-29.74581669881164</td><td>0.59066683</td><td>0.730861</td><td>0.6134791</td><td>0.64201075</td><td>1.1737084</td><td>0.9344613</td><td>359.11663188923757</td><td>-0.10657461285344134</td><td>266.48771476341113</td><td>-6.355261945069994</td><td>58936.668</td><td>58936.336</td><td>58937.168</td><td>0.0</td><td>0.0</td><td>0.0</td><td>0.0</td><td>0.0</td><td>223.44557</td><td>16.098284</td><td>2.8824813</td><td>0.20770735</td><td>2.4019425e-11</td><td>1.7728359e-12</td><td>944.27625</td><td>1.1867009</td><td>1.2554111</td><td>1.2817848</td><td>0.86722875</td><td>1.6963408</td><td>0.012174221</td><td>0.012429976</td><td>0.0084098615</td><td>0.01645009</td><td>1.1842628e-14</td><td>1.20914165e-14</td><td>8.180799e-15</td><td>1.6002033e-14</td><td>3.002542</td><td>0.13586663</td><td>103.12045</td><td>0.8923024</td><td>1</td><td>0.09140551</td><td>103.34614</td><td>6.9204364</td><td>0.08735245</td><td>13.389177</td><td>4.182678</td><td>3.803093</td><td>4.562263</td><td>0.13039683</td><td>0.040734988</td><td>0.03703822</td><td>0.044431753</td><td>1.1996028e-13</td><td>3.747469e-14</td><td>3.4073798e-14</td><td>4.0875577e-14</td><td>23.383873</td><td>0.6375681</td><td>102.68024</td><td>0.8836025</td><td>10</td><td>0.6191959</td><td>102.76077</td><td>7.532879</td><td>1.3020874e-09</td><td>208.80098</td><td>15.492481</td><td>14.245925</td><td>16.739038</td><td>2.7399104</td><td>0.20329411</td><td>0.18693666</td><td>0.21965158</td><td>2.3887623e-11</td><td>1.7723985e-12</td><td>1.6297878e-12</td><td>1.9150094e-12</td><td>927.8982</td><td>0.41326615</td><td>76.20723</td><td>0.85624605</td><td>158</td><td>2.1717055</td><td>76.20889</td><td>9.736386</td><td>0.0</td><td>0</td><td>0</td><td>0</td><td>0</td><td>0</td><td>0</td><td>0</td><td>0</td><td>0</td></tr>\n",
       "<tr><td>1eRASS J174535.7-290135</td><td>eb01_266120_020_ML00006_002_c010</td><td>266120</td><td>6</td><td>226612000006</td><td>0</td><td>6</td><td>266.3990102569735</td><td>-29.026444279550756</td><td>266.3998457591965</td><td>-29.02653673687063</td><td>0.7329534</td><td>0.65218747</td><td>0.6879611</td><td>0.61851114</td><td>1.1973094</td><td>0.97944254</td><td>359.9214671619078</td><td>-0.043257754536517146</td><td>266.83699079107424</td><td>-5.626491285263061</td><td>58937.004</td><td>58936.668</td><td>58937.504</td><td>0.0</td><td>0.0</td><td>0.0</td><td>0.0</td><td>0.0</td><td>251.60065</td><td>17.201569</td><td>3.3089144</td><td>0.22608234</td><td>2.851898e-11</td><td>1.9588907e-12</td><td>1040.9951</td><td>1.4820212</td><td>0.0</td><td>0.7252125</td><td>0.0</td><td>0.7252125</td><td>0.0</td><td>0.0070851473</td><td>0.0</td><td>0.0070851473</td><td>0.0</td><td>6.892167e-15</td><td>0.0</td><td>6.892167e-15</td><td>0.0</td><td>0.13213462</td><td>102.35673</td><td>0.8923024</td><td>0</td><td>0.08632092</td><td>102.693214</td><td>6.937699</td><td>--</td><td>4.3110785</td><td>2.5757635</td><td>2.263245</td><td>2.8882823</td><td>0.04224511</td><td>0.025240416</td><td>0.022177985</td><td>0.028302848</td><td>3.8863945e-14</td><td>2.3220253e-14</td><td>2.040293e-14</td><td>2.603758e-14</td><td>3.7262866</td><td>0.8595268</td><td>102.04917</td><td>0.8836025</td><td>5</td><td>1.0137042</td><td>102.08805</td><td>7.5611115</td><td>0.0038742602</td><td>247.28957</td><td>17.007627</td><td>16.04062</td><td>17.974632</td><td>3.2666693</td><td>0.22466896</td><td>0.21189493</td><td>0.237443</td><td>2.8480116e-11</td><td>1.958753e-12</td><td>1.8473838e-12</td><td>2.070122e-12</td><td>1047.422</td><td>0.49035975</td><td>75.70083</td><td>0.85624605</td><td>171</td><td>3.695619</td><td>75.73616</td><td>9.771883</td><td>0.0</td><td>0</td><td>0</td><td>0</td><td>0</td><td>0</td><td>0</td><td>0</td><td>0</td><td>0</td></tr>\n",
       "<tr><td>1eRASS J174445.3-295044</td><td>eb01_266120_020_ML00025_002_c010</td><td>266120</td><td>25</td><td>226612000025</td><td>0</td><td>25</td><td>266.18910309266846</td><td>-29.845788502340305</td><td>266.1899456848926</td><td>-29.845881640037042</td><td>1.9353799</td><td>1.9672221</td><td>1.9195194</td><td>2.0745673</td><td>2.3999681</td><td>2.7595563</td><td>359.1271250252439</td><td>-0.31486350753187703</td><td>266.6745263194027</td><td>-6.450287750365209</td><td>58936.836</td><td>58936.504</td><td>58937.336</td><td>0.0</td><td>0.0</td><td>0.0</td><td>0.0</td><td>0.0</td><td>26.183662</td><td>5.5795374</td><td>0.33257413</td><td>0.07089549</td><td>2.667402e-12</td><td>5.94266e-13</td><td>68.0746</td><td>1.234185</td><td>0.0</td><td>1.3655384</td><td>0.0</td><td>1.3655384</td><td>0.0</td><td>0.013155089</td><td>0.0</td><td>0.013155089</td><td>0.0</td><td>1.2796779e-14</td><td>0.0</td><td>1.2796779e-14</td><td>0.0</td><td>0.13696313</td><td>103.80305</td><td>0.8923024</td><td>0</td><td>0.09180456</td><td>103.66585</td><td>6.916262</td><td>--</td><td>3.061539</td><td>2.0165794</td><td>1.613322</td><td>2.419837</td><td>0.029763767</td><td>0.019604847</td><td>0.015684446</td><td>0.02352525</td><td>2.738157e-14</td><td>1.8035737e-14</td><td>1.4429113e-14</td><td>2.1642363e-14</td><td>4.6405873</td><td>0.686638</td><td>102.86127</td><td>0.8836025</td><td>3</td><td>0.54282886</td><td>103.08663</td><td>7.5266447</td><td>0.017844267</td><td>23.122124</td><td>5.202369</td><td>4.803113</td><td>5.6016254</td><td>0.30281037</td><td>0.06813091</td><td>0.0629022</td><td>0.07335962</td><td>2.6400206e-12</td><td>5.9399225e-13</td><td>5.4840626e-13</td><td>6.3957823e-13</td><td>69.63105</td><td>0.41058385</td><td>76.35843</td><td>0.85624605</td><td>20</td><td>0.5423229</td><td>76.41338</td><td>9.728301</td><td>1.1881039e-24</td><td>0</td><td>0</td><td>0</td><td>0</td><td>0</td><td>0</td><td>0</td><td>0</td><td>0</td></tr>\n",
       "</table></div>"
      ],
      "text/plain": [
       "<SourceTable length=7>\n",
       "        IAUNAME                      DETUID              ... FLAG_OPT\n",
       "                                                         ...         \n",
       "        bytes23                     bytes32              ...  int16  \n",
       "----------------------- -------------------------------- ... --------\n",
       "1eRASS J174605.1-293054 eb01_266120_020_ML00001_002_c010 ...        0\n",
       "1eRASS J174559.3-293041 eb01_266120_020_ML00031_002_c010 ...        0\n",
       "1eRASS J174354.6-294447 eb01_266120_020_ML00038_002_c010 ...        0\n",
       "1eRASS J174605.1-293241 eb01_266120_020_ML00047_002_c010 ...        0\n",
       "1eRASS J174354.7-294444 eb01_266120_020_ML00008_002_c010 ...        0\n",
       "1eRASS J174535.7-290135 eb01_266120_020_ML00006_002_c010 ...        0\n",
       "1eRASS J174445.3-295044 eb01_266120_020_ML00025_002_c010 ...        0"
      ]
     },
     "execution_count": 5,
     "metadata": {},
     "output_type": "execute_result"
    }
   ],
   "source": [
    "query_data"
   ]
  },
  {
   "cell_type": "markdown",
   "id": "1f52cd1f-8f15-405b-b9eb-c847403d4e5a",
   "metadata": {},
   "source": [
    "---\n",
    "\n",
    "## Remote Databases\n",
    "\n",
    "---\n",
    "\n",
    "As you might expect, the transition from the ``LocalDatabase`` class to the ``RemoteDatabase`` class includes a moderate increase in complexity. Just like local databases, remote databases are used for querying, cross matching, and creating Poisson atlases (all of these topics are covered in other guides). The only major differences are:\n",
    "\n",
    "- Query remote databases requires sending / receiving HTTP information from the database. This can take a lot longer.\n",
    "- Different online databases might have quite a number of settings / configurations for getting / receiving their data.\n",
    "- Remote databases are generally much much larger and therefore cannot be reasonably converted to local databases.\n",
    "\n",
    "For these reasons, there are a few differences in the implementation of remote databases versus the local database.\n",
    "\n",
    "- Many of the common remote databases are **built-in** to the ``pyXMIP`` infrastructure.\n",
    "  - Unlike local databases, where you can load the database from a table; if you need to create your own remote database, you will need to write a    ``RemoteDatabase`` class. Doing so is beyond the scope of this brief example; however, details can be found elsewhere in the documentation.\n",
    "- Each remote database has a ``.query_config`` attribute (which can be set as a kwarg when initializing the database).\n",
    "  - This is a ``dict`` containing various settings to configure for your particular need. The exact details may vary from database to database.\n",
    "  - **Example:** In the NED database, by default, the cross-matching table will only return the match name, RA, DEC, and object type. This can be changed by setting the ``kept_columns`` value in the ``query_config``.\n",
    "\n",
    "Nonetheless, remote databases operate in much the same way that ``LocalDatabases`` do. \n"
   ]
  },
  {
   "cell_type": "code",
   "execution_count": 6,
   "id": "708e0602-b49d-4643-a2c4-0b33d5b49e0c",
   "metadata": {},
   "outputs": [],
   "source": [
    "from pyXMIP.structures.databases import NED"
   ]
  },
  {
   "cell_type": "code",
   "execution_count": 7,
   "id": "cba9d9a8-a6d5-416e-98b9-488506fb8891",
   "metadata": {},
   "outputs": [
    {
     "name": "stderr",
     "output_type": "stream",
     "text": [
      "pyXMIP : [INFO     ] 2024-05-05 12:10:45,733 Querying <SkyCoord (Galactic): (l, b) in deg\n",
      "    (0., 0.)> in NED_STD...\n"
     ]
    }
   ],
   "source": [
    "from astropy.coordinates import SkyCoord\n",
    "import astropy.units as u\n",
    "\n",
    "database = NED()\n",
    "query_data = database.query_radius(\n",
    "    SkyCoord(0, 0, unit=\"deg\", frame=\"galactic\"), 1 * u.arcmin\n",
    ")"
   ]
  },
  {
   "cell_type": "code",
   "execution_count": 8,
   "id": "783780b3-19ff-4878-8aa8-6ff61f94a48a",
   "metadata": {},
   "outputs": [
    {
     "data": {
      "text/html": [
       "<div><i>SourceTable length=5</i>\n",
       "<table id=\"table140181690275920\" class=\"table-striped table-bordered table-condensed\">\n",
       "<thead><tr><th>No.</th><th>Object Name</th><th>RA</th><th>DEC</th><th>Type</th><th>Velocity</th><th>Redshift</th><th>Redshift Flag</th><th>Magnitude and Filter</th><th>Separation</th><th>References</th><th>Notes</th><th>Photometry Points</th><th>Positions</th><th>Redshift Points</th><th>Diameter Points</th><th>Associations</th></tr></thead>\n",
       "<thead><tr><th></th><th></th><th>degrees</th><th>degrees</th><th></th><th>km / s</th><th></th><th></th><th></th><th>arcmin</th><th></th><th></th><th></th><th></th><th></th><th></th><th></th></tr></thead>\n",
       "<thead><tr><th>int32</th><th>str30</th><th>float64</th><th>float64</th><th>object</th><th>float64</th><th>float64</th><th>object</th><th>object</th><th>float64</th><th>int32</th><th>int32</th><th>int32</th><th>int32</th><th>int32</th><th>int32</th><th>int32</th></tr></thead>\n",
       "<tr><td>1</td><td>2MASS J17453276-2856166</td><td>266.38652</td><td>-28.93796</td><td>IrS</td><td>--</td><td>--</td><td></td><td></td><td>0.981</td><td>1</td><td>0</td><td>28</td><td>3</td><td>0</td><td>0</td><td>0</td></tr>\n",
       "<tr><td>2</td><td>WISEA J174532.81-285611.6</td><td>266.38674</td><td>-28.93656</td><td>IrS</td><td>--</td><td>--</td><td></td><td></td><td>0.964</td><td>0</td><td>0</td><td>8</td><td>1</td><td>0</td><td>0</td><td>0</td></tr>\n",
       "<tr><td>3</td><td>2MASS J17453286-2856133</td><td>266.38692</td><td>-28.93705</td><td>IrS</td><td>--</td><td>--</td><td></td><td></td><td>0.955</td><td>0</td><td>0</td><td>5</td><td>1</td><td>0</td><td>0</td><td>0</td></tr>\n",
       "<tr><td>4</td><td>2MASS J17453288-2856244</td><td>266.38704</td><td>-28.94013</td><td>IrS</td><td>--</td><td>--</td><td></td><td></td><td>0.977</td><td>0</td><td>0</td><td>4</td><td>1</td><td>0</td><td>0</td><td>0</td></tr>\n",
       "<tr><td>5</td><td>2MASS J17453293-2856275</td><td>266.38724</td><td>-28.94099</td><td>IrS</td><td>--</td><td>--</td><td></td><td></td><td>0.981</td><td>0</td><td>0</td><td>4</td><td>1</td><td>0</td><td>0</td><td>0</td></tr>\n",
       "</table></div>"
      ],
      "text/plain": [
       "<SourceTable length=5>\n",
       " No.         Object Name            RA     ... Diameter Points Associations\n",
       "                                 degrees   ...                             \n",
       "int32           str30            float64   ...      int32         int32    \n",
       "----- ------------------------- ---------- ... --------------- ------------\n",
       "    1   2MASS J17453276-2856166  266.38652 ...               0            0\n",
       "    2 WISEA J174532.81-285611.6  266.38674 ...               0            0\n",
       "    3   2MASS J17453286-2856133  266.38692 ...               0            0\n",
       "    4   2MASS J17453288-2856244  266.38704 ...               0            0\n",
       "    5   2MASS J17453293-2856275  266.38724 ...               0            0"
      ]
     },
     "execution_count": 8,
     "metadata": {},
     "output_type": "execute_result"
    }
   ],
   "source": [
    "query_data[:5]"
   ]
  },
  {
   "cell_type": "markdown",
   "id": "dc5e07c9-aa72-4d65-9eab-e4b756fbcadb",
   "metadata": {},
   "source": [
    "Notice that these remote databases are **much larger** and therefore may take a long time to respond for a given search radius.\n",
    "\n",
    "Unlike ``LocalDatabases``, which read a schema directly from the source table or are provided a schema by the user, remote databases **must** be provided with a schema.\n",
    "\n",
    "- For the various built-in databases (NED, SIMBAD, etc.) there are \"standard\" schema stored in the ``database_class.default_query_schema`` attribute.\n",
    "  - Generally, these don't need to be overridden, but if you need to, a custom schema can be supplied to the ``__init__`` method when instantiating the instance.\n",
    " \n",
    "As an example; "
   ]
  },
  {
   "cell_type": "code",
   "execution_count": 12,
   "id": "7db08047-1854-4eba-81a6-b184c243b5e6",
   "metadata": {},
   "outputs": [
    {
     "name": "stdout",
     "output_type": "stream",
     "text": [
      "NED_STD NED_custom\n",
      "{'RA': 'RA', 'DEC': 'DEC', 'NAME': 'Object Name', 'TYPE': 'something new', 'Z': 'Redshift'} {'RA': 'RA', 'DEC': 'DEC', 'NAME': 'Object Name', 'TYPE': 'something new', 'Z': 'Redshift'}\n"
     ]
    }
   ],
   "source": [
    "# Initialize a \"standard\" NED instance.\n",
    "ned_database_standard = NED()\n",
    "\n",
    "# Make and edit a copy of the default schema.\n",
    "default_ned_schema = NED.default_query_schema\n",
    "default_ned_schema.column_map[\"TYPE\"] = \"something new\"\n",
    "\n",
    "# Initialize a custom NED instance.\n",
    "ned_database_custom = NED(\"NED_custom\", query_schema=default_ned_schema)\n",
    "\n",
    "# Compare the schema\n",
    "print(ned_database_standard.name, ned_database_custom.name)\n",
    "print(\n",
    "    ned_database_standard.query_schema.column_map,\n",
    "    ned_database_custom.query_schema.column_map,\n",
    ")"
   ]
  },
  {
   "cell_type": "markdown",
   "id": "c8b9f2b8-1a68-4475-821f-e04f981db05a",
   "metadata": {},
   "source": [
    "As you can see, the schema are now different. In general, it's not super useful to edit the query schema, but other settings (particularly ``query_config``) operate the same way and may need to be overridden in various applications."
   ]
  },
  {
   "cell_type": "markdown",
   "id": "593a2bda-9034-4143-9f3b-4ff568ac83c7",
   "metadata": {},
   "source": [
    "# Beyond Simple Queries\n",
    "\n",
    "---\n",
    "\n",
    "Now that you've been aquainted with the two basic types of databases and how to perform queries from them, it's now worth looking at some of the more advanced methods which exist for these classes.\n",
    "\n",
    "##"
   ]
  },
  {
   "cell_type": "markdown",
   "id": "41c87932-65f8-473b-a0b1-1ca789e691c1",
   "metadata": {},
   "source": [
    "## What is a database?\n",
    "\n",
    "---\n",
    "\n",
    "Databases are contained in the ``pyxmip.structures.databases`` module and form a backbone for interacting with both local and external sources of catalog information. Under the hood, these are simply wrappers for the case-specific querying behavior of individual types and instances of databases.\n",
    "\n",
    "All databases, regardless of type are descended from the abstract class the ``databases.SourceDatabase`` class. "
   ]
  },
  {
   "cell_type": "code",
   "execution_count": null,
   "id": "8210a47f-462f-44ec-bfb9-ce183563cd5c",
   "metadata": {
    "ExecuteTime": {
     "end_time": "2024-05-05T03:59:00.068135800Z",
     "start_time": "2024-05-05T03:59:00.026134900Z"
    }
   },
   "outputs": [],
   "source": []
  }
 ],
 "metadata": {
  "kernelspec": {
   "display_name": "Python 3 (ipykernel)",
   "language": "python",
   "name": "python3"
  },
  "language_info": {
   "codemirror_mode": {
    "name": "ipython",
    "version": 3
   },
   "file_extension": ".py",
   "mimetype": "text/x-python",
   "name": "python",
   "nbconvert_exporter": "python",
   "pygments_lexer": "ipython3",
   "version": "3.11.6"
  }
 },
 "nbformat": 4,
 "nbformat_minor": 5
}
